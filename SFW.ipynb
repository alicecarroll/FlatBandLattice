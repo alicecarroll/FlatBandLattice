{
 "cells": [
  {
   "cell_type": "code",
   "execution_count": 203,
   "id": "9dcb449d",
   "metadata": {},
   "outputs": [
    {
     "data": {
      "text/plain": [
       "<module 'tblib.hamiltonian' from 'c:\\\\Users\\\\atsch\\\\Desktop\\\\MasterVorlesungen\\\\Masterthesis\\\\Code\\\\tblib\\\\hamiltonian.py'>"
      ]
     },
     "execution_count": 203,
     "metadata": {},
     "output_type": "execute_result"
    }
   ],
   "source": [
    "import numpy as np\n",
    "import matplotlib.pyplot as plt\n",
    "\n",
    "from importlib import reload\n",
    "from tblib import lattice\n",
    "from tblib import hamiltonian\n",
    "\n",
    "reload(lattice)\n",
    "reload(hamiltonian)"
   ]
  },
  {
   "cell_type": "code",
   "execution_count": 204,
   "id": "38768230",
   "metadata": {},
   "outputs": [],
   "source": [
    "k=np.linspace(0,np.pi, 100)"
   ]
  },
  {
   "cell_type": "code",
   "execution_count": 205,
   "id": "c62ab6d0",
   "metadata": {},
   "outputs": [],
   "source": [
    "N=2\n",
    "\n",
    "lat = lattice.dDiagonallyStripedLattice(N=N)\n",
    "ham = hamiltonian.Model(N=N, kind='dDSL', delta=[0.01,0.01], U=[0,5])\n",
    " \n",
    "\n",
    "#lat.plot_lattice();"
   ]
  },
  {
   "cell_type": "code",
   "execution_count": 206,
   "id": "5f4fbaaf",
   "metadata": {},
   "outputs": [
    {
     "data": {
      "text/plain": [
       "[0.01, 0.01]"
      ]
     },
     "execution_count": 206,
     "metadata": {},
     "output_type": "execute_result"
    }
   ],
   "source": [
    "ham.delta"
   ]
  },
  {
   "cell_type": "code",
   "execution_count": 207,
   "id": "dfbd5240",
   "metadata": {},
   "outputs": [
    {
     "data": {
      "text/plain": [
       "<matplotlib.colorbar.Colorbar at 0x1f41943f8b0>"
      ]
     },
     "execution_count": 207,
     "metadata": {},
     "output_type": "execute_result"
    },
    {
     "data": {
      "image/png": "[encoded data removed]",
      "text/plain": [
       "<Figure size 640x480 with 2 Axes>"
      ]
     },
     "metadata": {},
     "output_type": "display_data"
    }
   ],
   "source": [
    "plt.imshow(np.real(ham.Hk(k[2], k[2])[0]))\n",
    "plt.colorbar()"
   ]
  },
  {
   "cell_type": "code",
   "execution_count": 208,
   "id": "134d181a",
   "metadata": {},
   "outputs": [],
   "source": [
    "#ham.SFW(1,0)"
   ]
  },
  {
   "cell_type": "code",
   "execution_count": 209,
   "id": "c0e68de2",
   "metadata": {},
   "outputs": [
    {
     "data": {
      "text/plain": [
       "([0j, (-1.8088243419185752+0j)],\n",
       " [(1.0000000000000004+0j), (1.0000000000000062+0j)])"
      ]
     },
     "execution_count": 209,
     "metadata": {},
     "output_type": "execute_result"
    }
   ],
   "source": [
    "ham.DeltaN(3,0,True)"
   ]
  },
  {
   "cell_type": "code",
   "execution_count": 210,
   "id": "028394f8",
   "metadata": {},
   "outputs": [
    {
     "data": {
      "text/plain": [
       "(array([[ 1.00000000e-02+0.00000000e+00j,  5.00000000e-03+0.00000000e+00j,\n",
       "          2.50000000e-03+0.00000000e+00j,  1.25000000e-03+0.00000000e+00j,\n",
       "          6.25000000e-04+0.00000000e+00j,  3.12500000e-04+0.00000000e+00j,\n",
       "          1.56250000e-04+0.00000000e+00j,  7.81250000e-05+0.00000000e+00j,\n",
       "          3.90625000e-05+0.00000000e+00j,  1.95312500e-05+0.00000000e+00j,\n",
       "          9.76562500e-06+0.00000000e+00j,  4.88281250e-06+0.00000000e+00j,\n",
       "          2.44140625e-06+0.00000000e+00j,  1.22070313e-06+0.00000000e+00j,\n",
       "          6.10351563e-07+0.00000000e+00j,  3.05175781e-07+0.00000000e+00j,\n",
       "          1.52587891e-07+0.00000000e+00j,  7.62939453e-08+0.00000000e+00j,\n",
       "          3.81469727e-08+0.00000000e+00j,  1.90734863e-08+0.00000000e+00j,\n",
       "          9.53674316e-09+0.00000000e+00j,  9.75608826e-07+0.00000000e+00j],\n",
       "        [ 1.00000000e-02+0.00000000e+00j, -6.48736698e-01-6.00311901e-16j,\n",
       "         -9.78105047e-01-9.00467851e-16j, -1.14278922e+00-1.05054583e-15j,\n",
       "         -1.22513131e+00-1.12558481e-15j, -1.26630235e+00-1.16310431e-15j,\n",
       "         -1.28688787e+00-1.18186405e-15j, -1.29718064e+00-1.19124393e-15j,\n",
       "         -1.30232702e+00-1.19593387e-15j, -1.30490021e+00-1.19827883e-15j,\n",
       "         -1.30618680e+00-1.19945132e-15j, -1.30683010e+00-1.20003756e-15j,\n",
       "         -1.30715175e+00-1.20033068e-15j, -1.30731257e+00-1.20047724e-15j,\n",
       "         -1.30739298e+00-1.20055052e-15j, -1.30743319e+00-1.20058716e-15j,\n",
       "         -1.30745329e+00-1.20060548e-15j, -1.30746334e+00-1.20061464e-15j,\n",
       "         -1.30746837e+00-1.20061922e-15j, -1.30747088e+00-1.20062151e-15j,\n",
       "         -1.30747214e+00-1.20062266e-15j, -1.30734486e+00-1.20050667e-15j]]),\n",
       " array([[0.        +0.00000000e+00j, 0.5       +1.93836223e-19j,\n",
       "         0.75      +2.90754334e-19j, 0.875     +3.39213390e-19j,\n",
       "         0.9375    +3.63442917e-19j, 0.96875   +3.75557681e-19j,\n",
       "         0.984375  +3.81615063e-19j, 0.9921875 +3.84643754e-19j,\n",
       "         0.99609375+3.86158100e-19j, 0.99804688+3.86915272e-19j,\n",
       "         0.99902344+3.87293859e-19j, 0.99951172+3.87483152e-19j,\n",
       "         0.99975586+3.87577799e-19j, 0.99987793+3.87625122e-19j,\n",
       "         0.99993896+3.87648784e-19j, 0.99996948+3.87660614e-19j,\n",
       "         0.99998474+3.87666530e-19j, 0.99999237+3.87669487e-19j,\n",
       "         0.99999619+3.87670966e-19j, 0.99999809+3.87671706e-19j,\n",
       "         0.99999905+3.87672075e-19j, 0.99990244+3.87634624e-19j],\n",
       "        [0.        +0.00000000e+00j, 0.5       +1.31355461e-19j,\n",
       "         0.75      +1.97033192e-19j, 0.875     +2.29872057e-19j,\n",
       "         0.9375    +2.46291490e-19j, 0.96875   +2.54501206e-19j,\n",
       "         0.984375  +2.58606065e-19j, 0.9921875 +2.60658494e-19j,\n",
       "         0.99609375+2.61684708e-19j, 0.99804688+2.62197815e-19j,\n",
       "         0.99902344+2.62454369e-19j, 0.99951172+2.62582646e-19j,\n",
       "         0.99975586+2.62646784e-19j, 0.99987793+2.62678854e-19j,\n",
       "         0.99993896+2.62694888e-19j, 0.99996948+2.62702905e-19j,\n",
       "         0.99998474+2.62706914e-19j, 0.99999237+2.62708918e-19j,\n",
       "         0.99999619+2.62709921e-19j, 0.99999809+2.62710422e-19j,\n",
       "         0.99999905+2.62710672e-19j, 0.99990244+2.62685292e-19j]]))"
      ]
     },
     "execution_count": 210,
     "metadata": {},
     "output_type": "execute_result"
    }
   ],
   "source": [
    "ham.Deltra(10,T=0,HF=True)"
   ]
  },
  {
   "cell_type": "code",
   "execution_count": 211,
   "id": "11751e88",
   "metadata": {},
   "outputs": [
    {
     "data": {
      "text/plain": [
       "{0: [(0, 0)], 1: [(0, 1), (1, 0)]}"
      ]
     },
     "execution_count": 211,
     "metadata": {},
     "output_type": "execute_result"
    }
   ],
   "source": [
    "ham.as_d"
   ]
  },
  {
   "cell_type": "code",
   "execution_count": 212,
   "id": "3ef41aaa",
   "metadata": {},
   "outputs": [
    {
     "data": {
      "text/plain": [
       "<matplotlib.colorbar.Colorbar at 0x1f4194f6830>"
      ]
     },
     "execution_count": 212,
     "metadata": {},
     "output_type": "execute_result"
    },
    {
     "data": {
      "image/png": "[encoded data removed]",
      "text/plain": [
       "<Figure size 640x480 with 2 Axes>"
      ]
     },
     "metadata": {},
     "output_type": "display_data"
    }
   ],
   "source": [
    "plt.imshow(np.real(ham.Hk(k[20], k[2])[0]))\n",
    "plt.colorbar()"
   ]
  },
  {
   "cell_type": "code",
   "execution_count": 213,
   "id": "47ad45db",
   "metadata": {},
   "outputs": [
    {
     "data": {
      "text/plain": [
       "array([ 9.75608826e-07+0.00000000e+00j, -1.30734486e+00-1.20050667e-15j])"
      ]
     },
     "execution_count": 213,
     "metadata": {},
     "output_type": "execute_result"
    }
   ],
   "source": [
    "ham.delta"
   ]
  },
  {
   "cell_type": "code",
   "execution_count": 214,
   "id": "10e2d398",
   "metadata": {},
   "outputs": [
    {
     "data": {
      "text/plain": [
       "array([[-0.        +0.j        , -1.99496846-0.12678398j,\n",
       "        -1.53012803-1.1266094j ,  0.        +0.j        ,\n",
       "         0.        +0.j        ,  0.        +0.j        ,\n",
       "         0.        +0.j        ,  0.        +0.j        ,\n",
       "         0.        +0.j        , -0.01      +0.j        ,\n",
       "         0.        +0.j        ,  0.        +0.j        ],\n",
       "       [-1.99496846+0.12678398j, -0.        +0.j        ,\n",
       "         0.        +0.j        ,  0.        +0.j        ,\n",
       "         0.        +0.j        ,  0.        +0.j        ,\n",
       "         0.        +0.j        ,  0.        +0.j        ,\n",
       "         0.        +0.j        ,  0.        +0.j        ,\n",
       "        -0.01      +0.j        ,  0.        +0.j        ],\n",
       "       [-1.53012803+1.1266094j ,  0.        +0.j        ,\n",
       "        -0.        +0.j        ,  0.        +0.j        ,\n",
       "         0.        +0.j        ,  0.        +0.j        ,\n",
       "         0.        +0.j        ,  0.        +0.j        ,\n",
       "         0.        +0.j        ,  0.        +0.j        ,\n",
       "         0.        +0.j        , -0.01      +0.j        ],\n",
       "       [ 0.        +0.j        ,  0.        +0.j        ,\n",
       "         0.        +0.j        , -0.        +0.j        ,\n",
       "        -1.99496846-0.12678398j, -1.53012803-1.1266094j ,\n",
       "         0.01      +0.j        ,  0.        +0.j        ,\n",
       "         0.        +0.j        ,  0.        +0.j        ,\n",
       "         0.        +0.j        ,  0.        +0.j        ],\n",
       "       [ 0.        +0.j        ,  0.        +0.j        ,\n",
       "         0.        +0.j        , -1.99496846+0.12678398j,\n",
       "        -0.        +0.j        ,  0.        +0.j        ,\n",
       "         0.        +0.j        ,  0.01      +0.j        ,\n",
       "         0.        +0.j        ,  0.        +0.j        ,\n",
       "         0.        +0.j        ,  0.        +0.j        ],\n",
       "       [ 0.        +0.j        ,  0.        +0.j        ,\n",
       "         0.        +0.j        , -1.53012803+1.1266094j ,\n",
       "         0.        +0.j        , -0.        +0.j        ,\n",
       "         0.        +0.j        ,  0.        +0.j        ,\n",
       "         0.01      +0.j        ,  0.        +0.j        ,\n",
       "         0.        +0.j        ,  0.        +0.j        ],\n",
       "       [ 0.        -0.j        ,  0.        -0.j        ,\n",
       "         0.        -0.j        ,  0.01      -0.j        ,\n",
       "         0.        -0.j        ,  0.        -0.j        ,\n",
       "         0.        +0.j        ,  1.99496846+0.12678398j,\n",
       "         1.53012803+1.1266094j ,  0.        +0.j        ,\n",
       "         0.        +0.j        ,  0.        +0.j        ],\n",
       "       [ 0.        -0.j        ,  0.        -0.j        ,\n",
       "         0.        -0.j        ,  0.        -0.j        ,\n",
       "         0.01      -0.j        ,  0.        -0.j        ,\n",
       "         1.99496846-0.12678398j,  0.        +0.j        ,\n",
       "         0.        +0.j        ,  0.        +0.j        ,\n",
       "         0.        +0.j        ,  0.        +0.j        ],\n",
       "       [ 0.        -0.j        ,  0.        -0.j        ,\n",
       "         0.        -0.j        ,  0.        -0.j        ,\n",
       "         0.        -0.j        ,  0.01      -0.j        ,\n",
       "         1.53012803-1.1266094j ,  0.        +0.j        ,\n",
       "         0.        +0.j        ,  0.        +0.j        ,\n",
       "         0.        +0.j        ,  0.        +0.j        ],\n",
       "       [-0.01      -0.j        ,  0.        -0.j        ,\n",
       "         0.        -0.j        ,  0.        -0.j        ,\n",
       "         0.        -0.j        ,  0.        -0.j        ,\n",
       "         0.        +0.j        ,  0.        +0.j        ,\n",
       "         0.        +0.j        ,  0.        +0.j        ,\n",
       "         1.99496846+0.12678398j,  1.53012803+1.1266094j ],\n",
       "       [ 0.        -0.j        , -0.01      -0.j        ,\n",
       "         0.        -0.j        ,  0.        -0.j        ,\n",
       "         0.        -0.j        ,  0.        -0.j        ,\n",
       "         0.        +0.j        ,  0.        +0.j        ,\n",
       "         0.        +0.j        ,  1.99496846-0.12678398j,\n",
       "         0.        +0.j        ,  0.        +0.j        ],\n",
       "       [ 0.        -0.j        ,  0.        -0.j        ,\n",
       "        -0.01      -0.j        ,  0.        -0.j        ,\n",
       "         0.        -0.j        ,  0.        -0.j        ,\n",
       "         0.        +0.j        ,  0.        +0.j        ,\n",
       "         0.        +0.j        ,  1.53012803-1.1266094j ,\n",
       "         0.        +0.j        ,  0.        +0.j        ]])"
      ]
     },
     "execution_count": 214,
     "metadata": {},
     "output_type": "execute_result"
    }
   ],
   "source": [
    "ham.Hk(k[20], k[2])[0]"
   ]
  },
  {
   "cell_type": "code",
   "execution_count": null,
   "id": "af4d2932",
   "metadata": {},
   "outputs": [],
   "source": []
  }
 ],
 "metadata": {
  "kernelspec": {
   "display_name": "Python 3",
   "language": "python",
   "name": "python3"
  },
  "language_info": {
   "codemirror_mode": {
    "name": "ipython",
    "version": 3
   },
   "file_extension": ".py",
   "mimetype": "text/x-python",
   "name": "python",
   "nbconvert_exporter": "python",
   "pygments_lexer": "ipython3",
   "version": "3.10.11"
  }
 },
 "nbformat": 4,
 "nbformat_minor": 5
}
