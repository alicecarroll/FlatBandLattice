{
 "cells": [
  {
   "cell_type": "code",
   "execution_count": 30,
   "id": "70f852ed",
   "metadata": {},
   "outputs": [
    {
     "data": {
      "text/plain": [
       "<module 'tblib.hamiltonian' from 'c:\\\\Users\\\\atsch\\\\Desktop\\\\MasterVorlesungen\\\\Masterthesis\\\\Code\\\\tblib\\\\hamiltonian.py'>"
      ]
     },
     "execution_count": 30,
     "metadata": {},
     "output_type": "execute_result"
    }
   ],
   "source": [
    "import numpy as np\n",
    "\n",
    "from importlib import reload\n",
    "from tblib import lattice\n",
    "from tblib import hamiltonian\n",
    "\n",
    "reload(lattice)\n",
    "reload(hamiltonian)\n",
    "\n"
   ]
  },
  {
   "cell_type": "code",
   "execution_count": 36,
   "id": "71ab9545",
   "metadata": {},
   "outputs": [
    {
     "data": {
      "image/png": "[encoded data removed]",
      "text/plain": [
       "<Figure size 640x480 with 1 Axes>"
      ]
     },
     "metadata": {},
     "output_type": "display_data"
    }
   ],
   "source": [
    "# Create an instance of the diagonally striped lattice\n",
    "lat = lattice.DiagonallyStripedLattice(N=10)\n",
    "ham = hamiltonian.Model(N=10)\n",
    " \n",
    "import matplotlib.pyplot as plt\n",
    "\n",
    "#lat.plot_lattice();\n",
    "#lat.nn[(5,5)][(0,0)].pop(2)\n",
    "lat.plot_nn();"
   ]
  },
  {
   "cell_type": "code",
   "execution_count": 37,
   "id": "aa0e7422",
   "metadata": {},
   "outputs": [],
   "source": [
    "k=np.linspace(0,2*np.pi, 100)"
   ]
  },
  {
   "cell_type": "code",
   "execution_count": 40,
   "id": "764baea6",
   "metadata": {},
   "outputs": [
    {
     "data": {
      "text/plain": [
       "array([[0.+0.j, 0.+0.j, 0.+0.j, ..., 0.+0.j, 0.+0.j, 0.+0.j],\n",
       "       [0.+0.j, 0.+0.j, 0.+0.j, ..., 0.+0.j, 0.+0.j, 0.+0.j],\n",
       "       [0.+0.j, 0.+0.j, 0.+0.j, ..., 0.+0.j, 0.+0.j, 0.+0.j],\n",
       "       ...,\n",
       "       [0.+0.j, 0.+0.j, 0.+0.j, ..., 0.+0.j, 0.+0.j, 0.+0.j],\n",
       "       [0.+0.j, 0.+0.j, 0.+0.j, ..., 0.+0.j, 0.+0.j, 0.+0.j],\n",
       "       [0.+0.j, 0.+0.j, 0.+0.j, ..., 0.+0.j, 0.+0.j, 0.+0.j]])"
      ]
     },
     "execution_count": 40,
     "metadata": {},
     "output_type": "execute_result"
    }
   ],
   "source": [
    "ham.Hk(k, k)"
   ]
  },
  {
   "cell_type": "code",
   "execution_count": 39,
   "id": "39be1388",
   "metadata": {},
   "outputs": [
    {
     "data": {
      "text/plain": [
       "{(4, 0): {(0, 0): [(5, 0), (4, 1), (3, 0)], (0, -1): [(4, 9)]},\n",
       " (4, 9): {(0, 0): [(5, 9), (3, 9), (4, 8)], (0, 1): [(4, 0)]},\n",
       " (5, 1): {(0, 0): [(6, 1), (5, 2), (4, 1), (5, 0)]},\n",
       " (8, 0): {(0, 0): [(9, 0), (8, 1), (7, 0)], (0, -1): [(8, 9)]},\n",
       " (8, 9): {(0, 0): [(9, 9), (7, 9), (8, 8)], (0, 1): [(8, 0)]},\n",
       " (9, 8): {(1, 0): [(0, 8)], (0, 0): [(9, 9), (8, 8), (9, 7)]},\n",
       " (0, 5): {(0, 0): [(1, 5), (0, 6), (0, 4)], (-1, 0): [(9, 5)]},\n",
       " (2, 2): {(0, 0): [(3, 2), (2, 3), (1, 2), (2, 1)]},\n",
       " (6, 2): {(0, 0): [(7, 2), (6, 3), (5, 2), (6, 1)]},\n",
       " (7, 1): {(0, 0): [(8, 1), (7, 2), (6, 1), (7, 0)]},\n",
       " (4, 2): {(0, 0): [(5, 2), (4, 3), (3, 2), (4, 1)]},\n",
       " (3, 6): {(0, 0): [(4, 6), (3, 7), (2, 6), (3, 5)]},\n",
       " (5, 3): {(0, 0): [(6, 3), (5, 4), (4, 3), (5, 2)]},\n",
       " (8, 2): {(0, 0): [(9, 2), (8, 3), (7, 2), (8, 1)]},\n",
       " (9, 1): {(1, 0): [(0, 1)], (0, 0): [(9, 2), (8, 1), (9, 0)]},\n",
       " (0, 7): {(0, 0): [(1, 7), (0, 8), (0, 6)], (-1, 0): [(9, 7)]},\n",
       " (2, 4): {(0, 0): [(3, 4), (2, 5), (1, 4), (2, 3)]},\n",
       " (1, 8): {(0, 0): [(2, 8), (1, 9), (0, 8), (1, 7)]},\n",
       " (6, 4): {(0, 0): [(7, 4), (6, 5), (5, 4), (6, 3)]},\n",
       " (7, 3): {(0, 0): [(8, 3), (7, 4), (6, 3), (7, 2)]},\n",
       " (3, 8): {(0, 0): [(4, 8), (3, 9), (2, 8), (3, 7)]},\n",
       " (5, 5): {(0, 0): [(6, 5), (5, 6), (4, 5), (5, 4)]},\n",
       " (8, 4): {(0, 0): [(9, 4), (8, 5), (7, 4), (8, 3)]},\n",
       " (9, 3): {(1, 0): [(0, 3)], (0, 0): [(9, 4), (8, 3), (9, 2)]},\n",
       " (0, 0): {(0, 0): [(1, 0), (0, 1)], (-1, 0): [(9, 0)], (0, -1): [(0, 9)]},\n",
       " (0, 9): {(0, 0): [(1, 9), (0, 8)], (0, 1): [(0, 0)], (-1, 0): [(9, 9)]},\n",
       " (6, 6): {(0, 0): [(7, 6), (6, 7), (5, 6), (6, 5)]},\n",
       " (7, 5): {(0, 0): [(8, 5), (7, 6), (6, 5), (7, 4)]},\n",
       " (3, 1): {(0, 0): [(4, 1), (3, 2), (2, 1), (3, 0)]},\n",
       " (5, 7): {(0, 0): [(6, 7), (5, 8), (4, 7), (5, 6)]},\n",
       " (9, 5): {(1, 0): [(0, 5)], (0, 0): [(9, 6), (8, 5), (9, 4)]},\n",
       " (0, 2): {(0, 0): [(1, 2), (0, 3), (0, 1)], (-1, 0): [(9, 2)]},\n",
       " (1, 3): {(0, 0): [(2, 3), (1, 4), (0, 3), (1, 2)]},\n",
       " (7, 7): {(0, 0): [(8, 7), (7, 8), (6, 7), (7, 6)]},\n",
       " (3, 3): {(0, 0): [(4, 3), (3, 4), (2, 3), (3, 2)]},\n",
       " (5, 0): {(0, 0): [(6, 0), (5, 1), (4, 0)], (0, -1): [(5, 9)]},\n",
       " (5, 9): {(0, 0): [(6, 9), (4, 9), (5, 8)], (0, 1): [(5, 0)]},\n",
       " (9, 7): {(1, 0): [(0, 7)], (0, 0): [(9, 8), (8, 7), (9, 6)]},\n",
       " (1, 5): {(0, 0): [(2, 5), (1, 6), (0, 5), (1, 4)]},\n",
       " (6, 1): {(0, 0): [(7, 1), (6, 2), (5, 1), (6, 0)]},\n",
       " (7, 0): {(0, 0): [(8, 0), (7, 1), (6, 0)], (0, -1): [(7, 9)]},\n",
       " (7, 9): {(0, 0): [(8, 9), (6, 9), (7, 8)], (0, 1): [(7, 0)]},\n",
       " (3, 5): {(0, 0): [(4, 5), (3, 6), (2, 5), (3, 4)]},\n",
       " (5, 2): {(0, 0): [(6, 2), (5, 3), (4, 2), (5, 1)]},\n",
       " (4, 4): {(0, 0): [(5, 4), (4, 5), (3, 4), (4, 3)]},\n",
       " (9, 0): {(1, 0): [(0, 0)], (0, 0): [(9, 1), (8, 0)], (0, -1): [(9, 9)]},\n",
       " (9, 9): {(1, 0): [(0, 9)], (0, 1): [(9, 0)], (0, 0): [(8, 9), (9, 8)]},\n",
       " (1, 7): {(0, 0): [(2, 7), (1, 8), (0, 7), (1, 6)]},\n",
       " (2, 6): {(0, 0): [(3, 6), (2, 7), (1, 6), (2, 5)]},\n",
       " (7, 2): {(0, 0): [(8, 2), (7, 3), (6, 2), (7, 1)]},\n",
       " (3, 7): {(0, 0): [(4, 7), (3, 8), (2, 7), (3, 6)]},\n",
       " (5, 4): {(0, 0): [(6, 4), (5, 5), (4, 4), (5, 3)]},\n",
       " (4, 6): {(0, 0): [(5, 6), (4, 7), (3, 6), (4, 5)]},\n",
       " (9, 2): {(1, 0): [(0, 2)], (0, 0): [(9, 3), (8, 2), (9, 1)]},\n",
       " (8, 6): {(0, 0): [(9, 6), (8, 7), (7, 6), (8, 5)]},\n",
       " (1, 0): {(0, 0): [(2, 0), (1, 1), (0, 0)], (0, -1): [(1, 9)]},\n",
       " (1, 9): {(0, 0): [(2, 9), (0, 9), (1, 8)], (0, 1): [(1, 0)]},\n",
       " (2, 8): {(0, 0): [(3, 8), (2, 9), (1, 8), (2, 7)]},\n",
       " (7, 4): {(0, 0): [(8, 4), (7, 5), (6, 4), (7, 3)]},\n",
       " (6, 8): {(0, 0): [(7, 8), (6, 9), (5, 8), (6, 7)]},\n",
       " (3, 0): {(0, 0): [(4, 0), (3, 1), (2, 0)], (0, -1): [(3, 9)]},\n",
       " (3, 9): {(0, 0): [(4, 9), (2, 9), (3, 8)], (0, 1): [(3, 0)]},\n",
       " (5, 6): {(0, 0): [(6, 6), (5, 7), (4, 6), (5, 5)]},\n",
       " (4, 8): {(0, 0): [(5, 8), (4, 9), (3, 8), (4, 7)]},\n",
       " (8, 8): {(0, 0): [(9, 8), (8, 9), (7, 8), (8, 7)]},\n",
       " (1, 2): {(0, 0): [(2, 2), (1, 3), (0, 2), (1, 1)]},\n",
       " (0, 4): {(0, 0): [(1, 4), (0, 5), (0, 3)], (-1, 0): [(9, 4)]},\n",
       " (2, 1): {(0, 0): [(3, 1), (2, 2), (1, 1), (2, 0)]},\n",
       " (3, 2): {(0, 0): [(4, 2), (3, 3), (2, 2), (3, 1)]},\n",
       " (4, 1): {(0, 0): [(5, 1), (4, 2), (3, 1), (4, 0)]},\n",
       " (8, 1): {(0, 0): [(9, 1), (8, 2), (7, 1), (8, 0)]},\n",
       " (1, 4): {(0, 0): [(2, 4), (1, 5), (0, 4), (1, 3)]},\n",
       " (0, 6): {(0, 0): [(1, 6), (0, 7), (0, 5)], (-1, 0): [(9, 6)]},\n",
       " (2, 3): {(0, 0): [(3, 3), (2, 4), (1, 3), (2, 2)]},\n",
       " (6, 3): {(0, 0): [(7, 3), (6, 4), (5, 3), (6, 2)]},\n",
       " (3, 4): {(0, 0): [(4, 4), (3, 5), (2, 4), (3, 3)]},\n",
       " (4, 3): {(0, 0): [(5, 3), (4, 4), (3, 3), (4, 2)]},\n",
       " (8, 3): {(0, 0): [(9, 3), (8, 4), (7, 3), (8, 2)]},\n",
       " (1, 6): {(0, 0): [(2, 6), (1, 7), (0, 6), (1, 5)]},\n",
       " (0, 8): {(0, 0): [(1, 8), (0, 9), (0, 7)], (-1, 0): [(9, 8)]},\n",
       " (2, 5): {(0, 0): [(3, 5), (2, 6), (1, 5), (2, 4)]},\n",
       " (6, 5): {(0, 0): [(7, 5), (6, 6), (5, 5), (6, 4)]},\n",
       " (4, 5): {(0, 0): [(5, 5), (4, 6), (3, 5), (4, 4)]},\n",
       " (8, 5): {(0, 0): [(9, 5), (8, 6), (7, 5), (8, 4)]},\n",
       " (9, 4): {(1, 0): [(0, 4)], (0, 0): [(9, 5), (8, 4), (9, 3)]},\n",
       " (0, 1): {(0, 0): [(1, 1), (0, 2), (0, 0)], (-1, 0): [(9, 1)]},\n",
       " (2, 7): {(0, 0): [(3, 7), (2, 8), (1, 7), (2, 6)]},\n",
       " (6, 7): {(0, 0): [(7, 7), (6, 8), (5, 7), (6, 6)]},\n",
       " (7, 6): {(0, 0): [(8, 6), (7, 7), (6, 6), (7, 5)]},\n",
       " (4, 7): {(0, 0): [(5, 7), (4, 8), (3, 7), (4, 6)]},\n",
       " (5, 8): {(0, 0): [(6, 8), (5, 9), (4, 8), (5, 7)]},\n",
       " (8, 7): {(0, 0): [(9, 7), (8, 8), (7, 7), (8, 6)]},\n",
       " (1, 1): {(0, 0): [(2, 1), (1, 2), (0, 1), (1, 0)]},\n",
       " (0, 3): {(0, 0): [(1, 3), (0, 4), (0, 2)], (-1, 0): [(9, 3)]},\n",
       " (2, 0): {(0, 0): [(3, 0), (2, 1), (1, 0)], (0, -1): [(2, 9)]},\n",
       " (9, 6): {(1, 0): [(0, 6)], (0, 0): [(9, 7), (8, 6), (9, 5)]},\n",
       " (2, 9): {(0, 0): [(3, 9), (1, 9), (2, 8)], (0, 1): [(2, 0)]},\n",
       " (6, 0): {(0, 0): [(7, 0), (6, 1), (5, 0)], (0, -1): [(6, 9)]},\n",
       " (6, 9): {(0, 0): [(7, 9), (5, 9), (6, 8)], (0, 1): [(6, 0)]},\n",
       " (7, 8): {(0, 0): [(8, 8), (7, 9), (6, 8), (7, 7)]}}"
      ]
     },
     "execution_count": 39,
     "metadata": {},
     "output_type": "execute_result"
    }
   ],
   "source": [
    "lat.nn"
   ]
  },
  {
   "cell_type": "code",
   "execution_count": null,
   "id": "83c358bb",
   "metadata": {},
   "outputs": [],
   "source": []
  }
 ],
 "metadata": {
  "kernelspec": {
   "display_name": "Python 3",
   "language": "python",
   "name": "python3"
  },
  "language_info": {
   "codemirror_mode": {
    "name": "ipython",
    "version": 3
   },
   "file_extension": ".py",
   "mimetype": "text/x-python",
   "name": "python",
   "nbconvert_exporter": "python",
   "pygments_lexer": "ipython3",
   "version": "3.10.11"
  }
 },
 "nbformat": 4,
 "nbformat_minor": 5
}
