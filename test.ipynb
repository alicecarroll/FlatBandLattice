{
 "cells": [
  {
   "cell_type": "code",
   "execution_count": 78,
   "id": "70f852ed",
   "metadata": {},
   "outputs": [
    {
     "data": {
      "image/png": "[encoded data removed]",
      "text/plain": [
       "<Figure size 640x480 with 1 Axes>"
      ]
     },
     "metadata": {},
     "output_type": "display_data"
    },
    {
     "data": {
      "image/png": "[encoded data removed]",
      "text/plain": [
       "<Figure size 640x480 with 1 Axes>"
      ]
     },
     "metadata": {},
     "output_type": "display_data"
    }
   ],
   "source": [
    "from importlib import reload\n",
    "from tblib import lattice\n",
    "reload(lattice)\n",
    "# Create an instance of the diagonally striped lattice\n",
    "lat = lattice.dDiagonallyStripedLattice(N=10)\n",
    " \n",
    "import matplotlib.pyplot as plt\n",
    "\n",
    "lat.plot_lattice();\n",
    "#lat.nn[(5,5)][(0,0)].pop(2)\n",
    "lat.plot_nn();"
   ]
  },
  {
   "cell_type": "code",
   "execution_count": 74,
   "id": "497fd411",
   "metadata": {},
   "outputs": [
    {
     "data": {
      "text/plain": [
       "91"
      ]
     },
     "execution_count": 74,
     "metadata": {},
     "output_type": "execute_result"
    }
   ],
   "source": [
    "len(lat.nn)"
   ]
  },
  {
   "cell_type": "code",
   "execution_count": 53,
   "id": "3cd7c6be",
   "metadata": {},
   "outputs": [
    {
     "name": "stdout",
     "output_type": "stream",
     "text": [
      "(4, 0)\n",
      "(4, 9)\n",
      "(5, 1)\n",
      "(8, 0)\n",
      "(8, 9)\n",
      "(9, 8)\n",
      "(0, 5)\n",
      "(2, 2)\n",
      "(6, 2)\n",
      "(7, 1)\n",
      "(4, 2)\n",
      "(3, 6)\n",
      "(5, 3)\n",
      "(8, 2)\n",
      "(9, 1)\n",
      "(0, 7)\n",
      "(2, 4)\n",
      "(1, 8)\n",
      "(6, 4)\n",
      "(7, 3)\n",
      "(3, 8)\n",
      "(5, 5)\n",
      "(8, 4)\n",
      "(9, 3)\n",
      "(0, 0)\n",
      "(0, 9)\n",
      "(6, 6)\n",
      "(7, 5)\n",
      "(3, 1)\n",
      "(5, 7)\n",
      "(9, 5)\n",
      "(0, 2)\n",
      "(1, 3)\n",
      "(7, 7)\n",
      "(3, 3)\n",
      "(5, 0)\n",
      "(5, 9)\n",
      "(9, 7)\n",
      "(1, 5)\n",
      "(6, 1)\n",
      "(7, 0)\n",
      "(7, 9)\n",
      "(3, 5)\n",
      "(5, 2)\n",
      "(4, 4)\n",
      "(9, 0)\n",
      "(9, 9)\n",
      "(1, 7)\n",
      "(2, 6)\n",
      "(7, 2)\n",
      "(3, 7)\n",
      "(5, 4)\n",
      "(4, 6)\n",
      "(9, 2)\n",
      "(8, 6)\n",
      "(1, 0)\n",
      "(1, 9)\n",
      "(2, 8)\n",
      "(7, 4)\n",
      "(6, 8)\n",
      "(3, 0)\n",
      "(3, 9)\n",
      "(5, 6)\n",
      "(4, 8)\n",
      "(8, 8)\n",
      "(1, 2)\n",
      "(0, 4)\n",
      "(2, 1)\n",
      "(3, 2)\n",
      "(4, 1)\n",
      "(8, 1)\n",
      "(1, 4)\n",
      "(0, 6)\n",
      "(2, 3)\n",
      "(6, 3)\n",
      "(3, 4)\n",
      "(4, 3)\n",
      "(8, 3)\n",
      "(1, 6)\n",
      "(0, 8)\n",
      "(2, 5)\n",
      "(6, 5)\n",
      "(4, 5)\n",
      "(8, 5)\n",
      "(9, 4)\n",
      "(0, 1)\n",
      "(2, 7)\n",
      "(6, 7)\n",
      "(7, 6)\n",
      "(4, 7)\n",
      "(5, 8)\n",
      "(8, 7)\n",
      "(1, 1)\n",
      "(9, 6)\n",
      "(2, 0)\n",
      "(2, 9)\n",
      "(6, 0)\n",
      "(6, 9)\n",
      "(7, 8)\n"
     ]
    }
   ],
   "source": [
    "for site in lat.sites:\n",
    "    print(site)"
   ]
  },
  {
   "cell_type": "code",
   "execution_count": 56,
   "id": "716471ad",
   "metadata": {},
   "outputs": [],
   "source": [
    "if (0,3) in lat.sites:\n",
    "    print(1)"
   ]
  },
  {
   "cell_type": "code",
   "execution_count": 61,
   "id": "7c286a77",
   "metadata": {},
   "outputs": [
    {
     "name": "stdout",
     "output_type": "stream",
     "text": [
      "0 A\n",
      "1 B\n"
     ]
    }
   ],
   "source": [
    "for i, j in enumerate(['A', 'B']):\n",
    "    print(i ,j)"
   ]
  },
  {
   "cell_type": "code",
   "execution_count": 48,
   "id": "8a8e4e50",
   "metadata": {},
   "outputs": [
    {
     "name": "stdout",
     "output_type": "stream",
     "text": [
      "(1, 0)\n",
      "(0, 1)\n"
     ]
    }
   ],
   "source": [
    "for i in lat.nn[(0,0)][(0,0)]:\n",
    "    print(i)"
   ]
  },
  {
   "cell_type": "code",
   "execution_count": 49,
   "id": "ad28ecd5",
   "metadata": {},
   "outputs": [
    {
     "name": "stdout",
     "output_type": "stream",
     "text": [
      "(0, 2)\n",
      "(1, 3)\n",
      "(0, 4)\n"
     ]
    }
   ],
   "source": [
    "for site in lat.nn:\n",
    "    if (0,3) in lat.nn[site][(0,0)]:\n",
    "        print(site)"
   ]
  },
  {
   "cell_type": "code",
   "execution_count": 50,
   "id": "21c48ee5",
   "metadata": {},
   "outputs": [
    {
     "data": {
      "text/plain": [
       "2"
      ]
     },
     "execution_count": 50,
     "metadata": {},
     "output_type": "execute_result"
    }
   ],
   "source": [
    "a=(1,1)\n",
    "sum(a)"
   ]
  },
  {
   "cell_type": "code",
   "execution_count": 51,
   "id": "0449b3ac",
   "metadata": {},
   "outputs": [
    {
     "data": {
      "text/plain": [
       "{(0, 0): [(1, 2), (0, 3), (0, 1)]}"
      ]
     },
     "execution_count": 51,
     "metadata": {},
     "output_type": "execute_result"
    }
   ],
   "source": [
    "lat.nn[(0,2)]"
   ]
  },
  {
   "cell_type": "code",
   "execution_count": 62,
   "id": "64c1d959",
   "metadata": {},
   "outputs": [
    {
     "data": {
      "text/plain": [
       "{(0, 0),\n",
       " (0, 1),\n",
       " (0, 2),\n",
       " (0, 4),\n",
       " (0, 5),\n",
       " (0, 6),\n",
       " (0, 7),\n",
       " (0, 8),\n",
       " (0, 9),\n",
       " (1, 0),\n",
       " (1, 1),\n",
       " (1, 2),\n",
       " (1, 3),\n",
       " (1, 4),\n",
       " (1, 5),\n",
       " (1, 6),\n",
       " (1, 7),\n",
       " (1, 8),\n",
       " (1, 9),\n",
       " (2, 0),\n",
       " (2, 1),\n",
       " (2, 2),\n",
       " (2, 3),\n",
       " (2, 4),\n",
       " (2, 5),\n",
       " (2, 6),\n",
       " (2, 7),\n",
       " (2, 8),\n",
       " (2, 9),\n",
       " (3, 0),\n",
       " (3, 1),\n",
       " (3, 2),\n",
       " (3, 3),\n",
       " (3, 4),\n",
       " (3, 5),\n",
       " (3, 6),\n",
       " (3, 7),\n",
       " (3, 8),\n",
       " (3, 9),\n",
       " (4, 0),\n",
       " (4, 1),\n",
       " (4, 2),\n",
       " (4, 3),\n",
       " (4, 4),\n",
       " (4, 5),\n",
       " (4, 6),\n",
       " (4, 7),\n",
       " (4, 8),\n",
       " (4, 9),\n",
       " (5, 0),\n",
       " (5, 1),\n",
       " (5, 2),\n",
       " (5, 3),\n",
       " (5, 4),\n",
       " (5, 5),\n",
       " (5, 6),\n",
       " (5, 7),\n",
       " (5, 8),\n",
       " (5, 9),\n",
       " (6, 0),\n",
       " (6, 1),\n",
       " (6, 2),\n",
       " (6, 3),\n",
       " (6, 4),\n",
       " (6, 5),\n",
       " (6, 6),\n",
       " (6, 7),\n",
       " (6, 8),\n",
       " (6, 9),\n",
       " (7, 0),\n",
       " (7, 1),\n",
       " (7, 2),\n",
       " (7, 3),\n",
       " (7, 4),\n",
       " (7, 5),\n",
       " (7, 6),\n",
       " (7, 7),\n",
       " (7, 8),\n",
       " (7, 9),\n",
       " (8, 0),\n",
       " (8, 1),\n",
       " (8, 2),\n",
       " (8, 3),\n",
       " (8, 4),\n",
       " (8, 5),\n",
       " (8, 6),\n",
       " (8, 7),\n",
       " (8, 8),\n",
       " (8, 9),\n",
       " (9, 0),\n",
       " (9, 1),\n",
       " (9, 2),\n",
       " (9, 3),\n",
       " (9, 4),\n",
       " (9, 5),\n",
       " (9, 6),\n",
       " (9, 7),\n",
       " (9, 8),\n",
       " (9, 9)}"
      ]
     },
     "execution_count": 62,
     "metadata": {},
     "output_type": "execute_result"
    }
   ],
   "source": [
    "lat.sites"
   ]
  },
  {
   "cell_type": "code",
   "execution_count": null,
   "id": "39be1388",
   "metadata": {},
   "outputs": [],
   "source": []
  },
  {
   "cell_type": "code",
   "execution_count": null,
   "id": "83c358bb",
   "metadata": {},
   "outputs": [],
   "source": []
  }
 ],
 "metadata": {
  "kernelspec": {
   "display_name": "Python 3",
   "language": "python",
   "name": "python3"
  },
  "language_info": {
   "codemirror_mode": {
    "name": "ipython",
    "version": 3
   },
   "file_extension": ".py",
   "mimetype": "text/x-python",
   "name": "python",
   "nbconvert_exporter": "python",
   "pygments_lexer": "ipython3",
   "version": "3.10.11"
  }
 },
 "nbformat": 4,
 "nbformat_minor": 5
}
