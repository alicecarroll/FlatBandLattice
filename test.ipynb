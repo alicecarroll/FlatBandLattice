{
 "cells": [
  {
   "cell_type": "code",
   "execution_count": 380,
   "id": "70f852ed",
   "metadata": {},
   "outputs": [
    {
     "data": {
      "text/plain": [
       "<module 'tblib.hamiltonian' from 'c:\\\\Users\\\\atsch\\\\Desktop\\\\MasterVorlesungen\\\\Masterthesis\\\\Code\\\\tblib\\\\hamiltonian.py'>"
      ]
     },
     "execution_count": 380,
     "metadata": {},
     "output_type": "execute_result"
    }
   ],
   "source": [
    "import numpy as np\n",
    "\n",
    "from importlib import reload\n",
    "from tblib import lattice\n",
    "from tblib import hamiltonian\n",
    "\n",
    "reload(lattice)\n",
    "reload(hamiltonian)\n",
    "\n"
   ]
  },
  {
   "cell_type": "code",
   "execution_count": 381,
   "id": "71ab9545",
   "metadata": {},
   "outputs": [
    {
     "data": {
      "image/png": "[encoded data removed]",
      "text/plain": [
       "<Figure size 640x480 with 1 Axes>"
      ]
     },
     "metadata": {},
     "output_type": "display_data"
    }
   ],
   "source": [
    "# Create an instance of the diagonally striped lattice\n",
    "lat = lattice.DiagonallyStripedLattice(N=3)\n",
    "ham = hamiltonian.Model(N=3, mu=[1,0.5,1, 1, 1, 1, 1, 1, 10])\n",
    " \n",
    "import matplotlib.pyplot as plt\n",
    "\n",
    "#lat.plot_lattice();\n",
    "lat.plot_nn();"
   ]
  },
  {
   "cell_type": "code",
   "execution_count": 382,
   "id": "aa0e7422",
   "metadata": {},
   "outputs": [],
   "source": [
    "k=np.linspace(0,2*np.pi, 100)"
   ]
  },
  {
   "cell_type": "code",
   "execution_count": 383,
   "id": "f4e54528",
   "metadata": {},
   "outputs": [
    {
     "data": {
      "text/plain": [
       "[1, 0.5, 1, 1, 1, 1, 1, 1, 10]"
      ]
     },
     "execution_count": 383,
     "metadata": {},
     "output_type": "execute_result"
    }
   ],
   "source": [
    "ham.mu"
   ]
  },
  {
   "cell_type": "code",
   "execution_count": 384,
   "id": "764baea6",
   "metadata": {},
   "outputs": [
    {
     "data": {
      "text/plain": [
       "<matplotlib.colorbar.Colorbar at 0x13fdc619c90>"
      ]
     },
     "execution_count": 384,
     "metadata": {},
     "output_type": "execute_result"
    },
    {
     "data": {
      "image/png": "[encoded data removed]",
      "text/plain": [
       "<Figure size 640x480 with 2 Axes>"
      ]
     },
     "metadata": {},
     "output_type": "display_data"
    }
   ],
   "source": [
    "\n",
    "plt.imshow(np.real(ham.Hk(k[60], k[80])))\n",
    "plt.colorbar()"
   ]
  },
  {
   "cell_type": "code",
   "execution_count": 385,
   "id": "f44bf2bb",
   "metadata": {},
   "outputs": [
    {
     "data": {
      "text/plain": [
       "array([[ -0.5       +0.j        ,   0.        +0.j        ,\n",
       "          0.57140824+0.82066597j, ...,   0.        +0.j        ,\n",
       "          0.        +0.j        ,   0.        +0.j        ],\n",
       "       [  0.        +0.j        , -30.        +0.j        ,\n",
       "          0.        +0.j        , ...,   0.        +0.j        ,\n",
       "          0.        +0.j        ,   0.        +0.j        ],\n",
       "       [  0.57140824+0.82066597j,   0.        +0.j        ,\n",
       "         -0.5       +0.j        , ...,   0.        +0.j        ,\n",
       "          0.        +0.j        ,   0.        +0.j        ],\n",
       "       ...,\n",
       "       [  0.        +0.j        ,   0.        +0.j        ,\n",
       "          0.        +0.j        , ...,   0.5       +0.j        ,\n",
       "         -0.57140824+0.82066597j,  -0.        +0.j        ],\n",
       "       [  0.        +0.j        ,   0.        +0.j        ,\n",
       "          0.        +0.j        , ...,  -0.57140824+0.82066597j,\n",
       "          0.5       +0.j        ,  -0.        +0.j        ],\n",
       "       [  0.        +0.j        ,   0.        +0.j        ,\n",
       "          0.        +0.j        , ...,  -0.        +0.j        ,\n",
       "         -0.        +0.j        ,   0.5       +0.j        ]])"
      ]
     },
     "execution_count": 385,
     "metadata": {},
     "output_type": "execute_result"
    }
   ],
   "source": [
    "ham.Hk(k[60], k[80])"
   ]
  },
  {
   "cell_type": "code",
   "execution_count": 367,
   "id": "be722a0d",
   "metadata": {},
   "outputs": [
    {
     "data": {
      "text/plain": [
       "{(0, 1): {(0, 0): [(1, 1), (0, 2), (0, 0)], (-1, 0): [(2, 1)]},\n",
       " (1, 2): {(0, 0): [(2, 2), (0, 2), (1, 1)], (0, 1): [(1, 0)]},\n",
       " (2, 1): {(1, 0): [(0, 1)], (0, 0): [(2, 2), (1, 1), (2, 0)]},\n",
       " (0, 0): {(0, 0): [(1, 0), (0, 1)], (-1, 0): [(2, 0)], (0, -1): [(0, 2)]},\n",
       " (1, 1): {(0, 0): [(2, 1), (1, 2), (0, 1), (1, 0)]},\n",
       " (2, 0): {(1, 0): [(0, 0)], (0, 0): [(2, 1), (1, 0)], (0, -1): [(2, 2)]},\n",
       " (0, 2): {(0, 0): [(1, 2), (0, 1)], (0, 1): [(0, 0)], (-1, 0): [(2, 2)]},\n",
       " (2, 2): {(1, 0): [(0, 2)], (0, 1): [(2, 0)], (0, 0): [(1, 2), (2, 1)]},\n",
       " (1, 0): {(0, 0): [(2, 0), (1, 1), (0, 0)], (0, -1): [(1, 2)]}}"
      ]
     },
     "execution_count": 367,
     "metadata": {},
     "output_type": "execute_result"
    }
   ],
   "source": [
    "lat.nn"
   ]
  },
  {
   "cell_type": "code",
   "execution_count": 368,
   "id": "80e34edd",
   "metadata": {},
   "outputs": [
    {
     "data": {
      "text/plain": [
       "(36,)"
      ]
     },
     "execution_count": 368,
     "metadata": {},
     "output_type": "execute_result"
    }
   ],
   "source": [
    "np.shape(ham.Hk(k[22], k[22])[0])"
   ]
  },
  {
   "cell_type": "code",
   "execution_count": 340,
   "id": "39be1388",
   "metadata": {},
   "outputs": [
    {
     "data": {
      "text/plain": [
       "{(0, 1): {(0, 0): [(1, 1), (0, 2), (0, 0)], (-1, 0): [(2, 1)]},\n",
       " (1, 2): {(0, 0): [(2, 2), (0, 2), (1, 1)], (0, 1): [(1, 0)]},\n",
       " (2, 1): {(1, 0): [(0, 1)], (0, 0): [(2, 2), (1, 1), (2, 0)]},\n",
       " (0, 0): {(0, 0): [(1, 0), (0, 1)], (-1, 0): [(2, 0)], (0, -1): [(0, 2)]},\n",
       " (1, 1): {(0, 0): [(2, 1), (1, 2), (0, 1), (1, 0)]},\n",
       " (2, 0): {(1, 0): [(0, 0)], (0, 0): [(2, 1), (1, 0)], (0, -1): [(2, 2)]},\n",
       " (0, 2): {(0, 0): [(1, 2), (0, 1)], (0, 1): [(0, 0)], (-1, 0): [(2, 2)]},\n",
       " (2, 2): {(1, 0): [(0, 2)], (0, 1): [(2, 0)], (0, 0): [(1, 2), (2, 1)]},\n",
       " (1, 0): {(0, 0): [(2, 0), (1, 1), (0, 0)], (0, -1): [(1, 2)]}}"
      ]
     },
     "execution_count": 340,
     "metadata": {},
     "output_type": "execute_result"
    }
   ],
   "source": [
    "lat.nn"
   ]
  },
  {
   "cell_type": "code",
   "execution_count": 341,
   "id": "83c358bb",
   "metadata": {},
   "outputs": [
    {
     "data": {
      "text/plain": [
       "9"
      ]
     },
     "execution_count": 341,
     "metadata": {},
     "output_type": "execute_result"
    }
   ],
   "source": [
    "len(lat.sites)"
   ]
  },
  {
   "cell_type": "code",
   "execution_count": 342,
   "id": "7c796a13",
   "metadata": {},
   "outputs": [
    {
     "data": {
      "text/plain": [
       "{(0, 0), (0, 1), (0, 2), (1, 0), (1, 1), (1, 2), (2, 0), (2, 1), (2, 2)}"
      ]
     },
     "execution_count": 342,
     "metadata": {},
     "output_type": "execute_result"
    }
   ],
   "source": [
    "lat.sites"
   ]
  },
  {
   "cell_type": "code",
   "execution_count": null,
   "id": "18a6626e",
   "metadata": {},
   "outputs": [],
   "source": []
  },
  {
   "cell_type": "code",
   "execution_count": null,
   "id": "964c06c3",
   "metadata": {},
   "outputs": [],
   "source": []
  }
 ],
 "metadata": {
  "kernelspec": {
   "display_name": "Python 3",
   "language": "python",
   "name": "python3"
  },
  "language_info": {
   "codemirror_mode": {
    "name": "ipython",
    "version": 3
   },
   "file_extension": ".py",
   "mimetype": "text/x-python",
   "name": "python",
   "nbconvert_exporter": "python",
   "pygments_lexer": "ipython3",
   "version": "3.10.11"
  }
 },
 "nbformat": 4,
 "nbformat_minor": 5
}
